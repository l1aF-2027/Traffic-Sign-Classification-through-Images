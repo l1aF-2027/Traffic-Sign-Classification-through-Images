{
 "cells": [
  {
   "cell_type": "code",
   "execution_count": 7,
   "metadata": {},
   "outputs": [],
   "source": [
    "import cv2\n",
    "import numpy as np"
   ]
  },
  {
   "cell_type": "code",
   "execution_count": 8,
   "metadata": {},
   "outputs": [],
   "source": [
    "points = []"
   ]
  },
  {
   "cell_type": "code",
   "execution_count": 9,
   "metadata": {},
   "outputs": [],
   "source": [
    "image = cv2.imread(r\"E:\\Documents\\CS231\\project\\New folder\\Traffic-Sign-Classification-through-Images\\data\\train\\Cam\\Cam_54.jpg\")\n",
    "h, w, _ = image.shape"
   ]
  },
  {
   "cell_type": "code",
   "execution_count": 10,
   "metadata": {},
   "outputs": [],
   "source": [
    "def draw_line(event, x, y, flags, param):\n",
    "    global points, drawing, image_copy\n",
    "    \n",
    "    if event == cv2.EVENT_LBUTTONDOWN:  # Khi nhấn chuột trái\n",
    "        drawing = True\n",
    "        points = [(x, y)]  # Bắt đầu một đường mới\n",
    "        \n",
    "    elif event == cv2.EVENT_MOUSEMOVE and drawing:  # Khi kéo chuột\n",
    "        points.append((x, y))  # Lưu tọa độ điểm mới\n",
    "        cv2.line(image_copy, points[-2], points[-1], (0, 255, 0), 2)  # Vẽ đường\n",
    "        cv2.imshow('Draw Polygon', image_copy)\n",
    "        \n",
    "    elif event == cv2.EVENT_LBUTTONUP:  # Khi thả chuột trái\n",
    "        drawing = False\n",
    "        points.append((x, y))\n",
    "        cv2.line(image_copy, points[-2], points[-1], (0, 255, 0), 2)\n",
    "        cv2.imshow('Draw Polygon', image_copy)"
   ]
  },
  {
   "cell_type": "code",
   "execution_count": 11,
   "metadata": {},
   "outputs": [],
   "source": [
    "image = cv2.imread(r\"E:\\Documents\\CS231\\project\\New folder\\Traffic-Sign-Classification-through-Images\\data\\train\\Chidan\\Chidan_308.jpeg\")\n",
    "image_copy = image.copy()\n",
    "drawing = False"
   ]
  },
  {
   "cell_type": "code",
   "execution_count": 12,
   "metadata": {},
   "outputs": [
    {
     "name": "stdout",
     "output_type": "stream",
     "text": [
      "Số pixel trong vùng biển báo: 10144\n",
      "Phần trăm diện tích biển báo: 52.04%\n"
     ]
    }
   ],
   "source": [
    "cv2.namedWindow('Draw Polygon')\n",
    "cv2.setMouseCallback('Draw Polygon', draw_line)\n",
    "\n",
    "cv2.imshow('Draw Polygon', image_copy)\n",
    "cv2.waitKey(0)\n",
    "cv2.destroyAllWindows()\n",
    "\n",
    "if len(points) > 2:\n",
    "    mask = np.zeros(image.shape[:2], dtype=np.uint8)\n",
    "    polygon = np.array(points, np.int32)\n",
    "    cv2.fillPoly(mask, [polygon], 255)\n",
    "    extracted_region = cv2.bitwise_and(image, image, mask=mask)\n",
    "\n",
    "    cv2.imshow('Extracted Region', extracted_region)\n",
    "    cv2.waitKey(0)\n",
    "    cv2.destroyAllWindows()\n",
    "\n",
    "    num_pixels = cv2.countNonZero(mask)\n",
    "    total_pixels = image.shape[0] * image.shape[1]\n",
    "    percentage = (num_pixels / total_pixels) * 100\n",
    "    \n",
    "    print(f\"Số pixel trong vùng biển báo: {num_pixels}\")\n",
    "    print(f\"Phần trăm diện tích biển báo: {percentage:.2f}%\")\n",
    "else:\n",
    "    print(\"Không đủ điểm để tạo vùng bao!\")"
   ]
  }
 ],
 "metadata": {
  "kernelspec": {
   "display_name": "Python 3",
   "language": "python",
   "name": "python3"
  },
  "language_info": {
   "codemirror_mode": {
    "name": "ipython",
    "version": 3
   },
   "file_extension": ".py",
   "mimetype": "text/x-python",
   "name": "python",
   "nbconvert_exporter": "python",
   "pygments_lexer": "ipython3",
   "version": "3.10.0"
  }
 },
 "nbformat": 4,
 "nbformat_minor": 2
}
